{
 "cells": [
  {
   "cell_type": "code",
   "execution_count": 1,
   "id": "0b035e0a",
   "metadata": {},
   "outputs": [],
   "source": [
    "import numpy as np\n",
    "import matplotlib.pyplot as plt"
   ]
  },
  {
   "cell_type": "code",
   "execution_count": 4,
   "id": "aab4c5bf",
   "metadata": {},
   "outputs": [],
   "source": [
    "num_of_synthetics = 3\n",
    "num_of_training = int(0.8*num_of_synthetics)\n",
    "num_of_val = int(0.2*num_of_synthetics)"
   ]
  },
  {
   "cell_type": "code",
   "execution_count": 5,
   "id": "dc9486fd",
   "metadata": {},
   "outputs": [
    {
     "name": "stdout",
     "output_type": "stream",
     "text": [
      "1\n",
      "2\n",
      "3\n"
     ]
    }
   ],
   "source": [
    "# read and write file paths\n",
    "rpath = \"./synthetics\"\n",
    "wpath = './traindata_angle'\n",
    "\n",
    "# upper and lower limits in time samples for the gather\n",
    "up = 143\n",
    "low = 1391\n",
    "off_limit = 128\n",
    "for num in range(1, num_of_synthetics+1):\n",
    "\n",
    "    # load data\n",
    "    inp_near = np.load(rpath+'/input_near/inp_near_'+str(num)+'.npy')\n",
    "    targ_near = np.load(rpath+'/target_near/targ_near_'+str(num)+'.npy')\n",
    "    inp_mid = np.load(rpath+'/input_mid/inp_mid_'+str(num)+'.npy')\n",
    "    targ_mid = np.load(rpath+'/target_mid/targ_mid_'+str(num)+'.npy')\n",
    "    inp_far = np.load(rpath+'/input_far/inp_far_'+str(num)+'.npy')\n",
    "    targ_far = np.load(rpath+'/target_far/targ_far_'+str(num)+'.npy')\n",
    "\n",
    "    \n",
    "    # crop data into dimensions appropriate for network\n",
    "    inp_near = inp_near[up:low,:off_limit]\n",
    "    targ_near = targ_near[up:low,:off_limit]\n",
    "    inp_mid = inp_mid[up:low,:off_limit]\n",
    "    targ_mid = targ_mid[up:low,:off_limit]\n",
    "    inp_far = inp_far[up:low,:off_limit]\n",
    "    targ_far = targ_far[up:low,:off_limit]\n",
    "\n",
    "    \n",
    "    # make stacks for angular ranges\n",
    "    stacks = np.zeros((6,low-up))\n",
    "    data = [inp_near, inp_mid, inp_far, targ_near, targ_mid, targ_far]\n",
    "    for d,i in zip(data, range(6)):        \n",
    "    \n",
    "        stacks[i,:] = np.sum(d, axis=1) / np.count_nonzero(d, axis=1)\n",
    "        \n",
    "    stacks = np.nan_to_num(stacks, nan=0.0)\n",
    "    # normalize\n",
    "    stacks = (stacks - stacks.mean()) / stacks.std()\n",
    "    \n",
    "    # combine into triplet of near-mid-far angle stack traces\n",
    "    inp = np.stack((stacks[0,:], stacks[1,:], stacks[2,:]), axis=1)\n",
    "    targ = np.stack((stacks[3,:], stacks[4,:], stacks[5,:]), axis=1)\n",
    "    \n",
    "    # save training data\n",
    "    if num <= num_of_training:\n",
    "        np.save(wpath+'/before/inp_batch_'+str(num)+'.npy', inp)\n",
    "        np.save(wpath+'/after/targ_batch_'+str(num)+'.npy', targ)\n",
    "    \n",
    "    # save validation data\n",
    "    else:\n",
    "        np.save(wpath+'/val/before/inp_batch_'+str(num-num_of_training)+'.npy', inp)\n",
    "        np.save(wpath+'/val/after/targ_batch_'+str(num-num_of_training)+'.npy', targ)\n",
    "    \n",
    "    print(num)"
   ]
  },
  {
   "cell_type": "code",
   "execution_count": null,
   "id": "16e84d42",
   "metadata": {},
   "outputs": [],
   "source": []
  }
 ],
 "metadata": {
  "kernelspec": {
   "display_name": "Python 3 (ipykernel)",
   "language": "python",
   "name": "python3"
  },
  "language_info": {
   "codemirror_mode": {
    "name": "ipython",
    "version": 3
   },
   "file_extension": ".py",
   "mimetype": "text/x-python",
   "name": "python",
   "nbconvert_exporter": "python",
   "pygments_lexer": "ipython3",
   "version": "3.9.12"
  }
 },
 "nbformat": 4,
 "nbformat_minor": 5
}
