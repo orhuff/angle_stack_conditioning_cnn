{
 "cells": [
  {
   "cell_type": "code",
   "execution_count": 4,
   "id": "edfc5ae5",
   "metadata": {},
   "outputs": [
    {
     "data": {
      "text/plain": [
       "make_angle_stacks (generic function with 1 method)"
      ]
     },
     "execution_count": 4,
     "metadata": {},
     "output_type": "execute_result"
    }
   ],
   "source": [
    "using Interpolations, FourierTools, Random, Flux, Base.Threads, Distributions, NPZ\n",
    "\n",
    "\n",
    "function angMuteRange!(gth, angmtrx, m, l)\n",
    "\n",
    "    nt, nx = size(gth)\n",
    "    m = sin(deg2rad(m))^2\n",
    "\tl = sin(deg2rad(l))^2\n",
    "\t@threads for ti = 2:nt\n",
    "\t\t@threads for xi = 1:nx\n",
    "\t\t   if angmtrx[ti,xi] <= l\n",
    "\t\t\t\tgth[ti,1:xi] .= 0f0\n",
    "\t\t   end\t\t\n",
    "           if angmtrx[ti,xi] >= m\n",
    "\t\t\t\tgth[ti,xi:end] .= 0f0\n",
    "\t\t   end\n",
    "\n",
    "\t\tend\n",
    "\tend\n",
    "\treturn gth\n",
    "end\n",
    "\n",
    "\n",
    "function make_angle_stacks(bsize, near_min, near_max, mid_min, mid_max, far_min, far_max)\n",
    "\n",
    "          count = 0\n",
    "      @threads for g = 1:bsize\n",
    "          \n",
    "          # read in input an target full gathers\n",
    "\t\t  gthc_inp = npzread(\"./synthetics/input_full/inp_\"*string(g)*\".npy\")\n",
    "\t\t  gthc_targ = npzread(\"./synthetics/target_full/targ_\"*string(g)*\".npy\")\n",
    "\n",
    "          # make copies of arrays to store angle muted gathers in later\n",
    "\t\t  gthc_inp_near = copy(gthc_inp)\n",
    "\t\t  gthc_targ_near = copy(gthc_targ)\n",
    "\t\t  gthc_inp_mid = copy(gthc_inp)\n",
    "\t\t  gthc_targ_mid = copy(gthc_targ)\n",
    "\t\t  gthc_inp_far = copy(gthc_inp)\n",
    "\t\t  gthc_targ_far = copy(gthc_targ)\n",
    "\n",
    "          ang2 = npzread(\"./synthetics/angle_matrices/matrix_\"*string(g)*\".npy\")\n",
    "          \n",
    "          # angle mute data into near mid far ranges\n",
    "\t\t  gthc_input_near = angMuteRange!(gthc_inp_near, ang2, near_max, near_min)\n",
    "\t\t  gthc_target_near = angMuteRange!(gthc_targ_near, ang2, near_max, near_min)\n",
    "\t\t  gthc_input_mid = angMuteRange!(gthc_inp_mid, ang2, mid_max, mid_min)\n",
    "\t\t  gthc_target_mid = angMuteRange!(gthc_targ_mid, ang2, mid_max, mid_min)\n",
    "\t\t  gthc_input_far = angMuteRange!(gthc_inp_far, ang2, far_max, far_min)\n",
    "\t\t  gthc_target_far = angMuteRange!(gthc_targ_far, ang2, far_max, far_min)\n",
    "\t\t  \n",
    "\n",
    "          # save angle muted gathers in folders\n",
    "\t\t  npzwrite(\"./synthetics/input_near/inp_near_\"*string(g)*\".npy\", gthc_input_near)\n",
    "\t\t  npzwrite(\"./synthetics/target_near/targ_near_\"*string(g)*\".npy\", gthc_target_near)\n",
    "\t\t  npzwrite(\"./synthetics/input_mid/inp_mid_\"*string(g)*\".npy\", gthc_input_mid)\n",
    "\t\t  npzwrite(\"./synthetics/target_mid/targ_mid_\"*string(g)*\".npy\", gthc_target_mid)\n",
    "\t\t  npzwrite(\"./synthetics/input_far/inp_far_\"*string(g)*\".npy\", gthc_input_far)\n",
    "\t\t  npzwrite(\"./synthetics/target_far/targ_far_\"*string(g)*\".npy\", gthc_target_far)\n",
    "\t\t  \n",
    "          count = count+1\n",
    "\t\t  println(count)\n",
    "\t\tend\n",
    "\t  end"
   ]
  },
  {
   "cell_type": "code",
   "execution_count": 5,
   "id": "6f3e6fa4",
   "metadata": {},
   "outputs": [
    {
     "name": "stdout",
     "output_type": "stream",
     "text": [
      "1\n"
     ]
    }
   ],
   "source": [
    "# check number of threads being used\n",
    "println(Threads.nthreads())"
   ]
  },
  {
   "cell_type": "code",
   "execution_count": 6,
   "id": "17f77fb7",
   "metadata": {},
   "outputs": [
    {
     "name": "stdout",
     "output_type": "stream",
     "text": [
      "1\n",
      "2\n",
      "3\n"
     ]
    }
   ],
   "source": [
    "# specify number of gathers\n",
    "bsize = 3\n",
    "\n",
    "# specify near mid and far angle ranges\n",
    "near_min = 0\n",
    "near_max = 10\n",
    "\n",
    "mid_min = 10\n",
    "mid_max = 20\n",
    "\n",
    "far_min = 20\n",
    "far_max = 30\n",
    "\n",
    "make_angle_stacks(bsize, near_min, near_max, mid_min, mid_max, far_min, far_max)"
   ]
  },
  {
   "cell_type": "code",
   "execution_count": null,
   "id": "86fea9c6",
   "metadata": {},
   "outputs": [],
   "source": []
  }
 ],
 "metadata": {
  "kernelspec": {
   "display_name": "Julia 1.6.7",
   "language": "julia",
   "name": "julia-1.6"
  },
  "language_info": {
   "file_extension": ".jl",
   "mimetype": "application/julia",
   "name": "julia",
   "version": "1.6.7"
  }
 },
 "nbformat": 4,
 "nbformat_minor": 5
}
