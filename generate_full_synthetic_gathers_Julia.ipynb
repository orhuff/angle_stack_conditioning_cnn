{
 "cells": [
  {
   "cell_type": "code",
   "execution_count": 1,
   "id": "5f89ecab",
   "metadata": {},
   "outputs": [
    {
     "name": "stderr",
     "output_type": "stream",
     "text": [
      "\u001b[32m\u001b[1m  Activating\u001b[22m\u001b[39m new environment at `C:\\Users\\owehuf\\Documents\\angle_stack_redux\\generation_code_testing\\github\\Project.toml`\n"
     ]
    }
   ],
   "source": [
    "using Pkg\n",
    "Pkg.activate(\"./\")\n",
    "using FourierTools, TeaSeis, Random, NPZ, Base.Threads, Base\n",
    "\n",
    "# Load file with functions\n",
    "include(\"./synthetic_generation_functions.jl\")\n",
    "\n",
    "# load randomized velocity curves\n",
    "trcs = npzread(\"velocities.npy\");"
   ]
  },
  {
   "cell_type": "code",
   "execution_count": 2,
   "id": "3c084ea2",
   "metadata": {},
   "outputs": [
    {
     "ename": "LoadError",
     "evalue": "IOError: mkdir(\"./synthetics\"; mode=0o777): file already exists (EEXIST)",
     "output_type": "error",
     "traceback": [
      "IOError: mkdir(\"./synthetics\"; mode=0o777): file already exists (EEXIST)",
      "",
      "Stacktrace:",
      " [1] uv_error",
      "   @ .\\libuv.jl:97 [inlined]",
      " [2] mkdir(path::String; mode::UInt16)",
      "   @ Base.Filesystem .\\file.jl:179",
      " [3] mkdir(path::String)",
      "   @ Base.Filesystem .\\file.jl:172",
      " [4] top-level scope",
      "   @ .\\In[2]:8"
     ]
    }
   ],
   "source": [
    "# make folders to save synthetic data (input and full gather folders, angle matrices, near/mid/far folders for later)\n",
    "\n",
    "directory_paths = [\"./synthetics\", \"./synthetics/angle_matrices\",\"./synthetics/input_full\", \n",
    "    \"./synthetics/target_full\", \"./synthetics/input_near\",\"./synthetics/target_near\", \n",
    "    \"./synthetics/input_mid\", \"./synthetics/target_mid\", \"./synthetics/input_far\", \"./synthetics/target_far\"]\n",
    "\n",
    "for path in directory_paths\n",
    "    mkdir(path)\n",
    "end"
   ]
  },
  {
   "cell_type": "code",
   "execution_count": 3,
   "id": "82f0b2c7",
   "metadata": {},
   "outputs": [
    {
     "name": "stdout",
     "output_type": "stream",
     "text": [
      "Number of parallel threads being used: 1\n"
     ]
    }
   ],
   "source": [
    "\n",
    "println(\"Number of parallel threads being used: \", Threads.nthreads())"
   ]
  },
  {
   "cell_type": "code",
   "execution_count": 4,
   "id": "a504f4cb",
   "metadata": {},
   "outputs": [],
   "source": [
    "# PARAMETERS\n",
    "# Time sampling interval (s)\n",
    "dt = 0.004\n",
    "\n",
    "# Number of time samples (length of velocity profile)\n",
    "nt = length(trcs[:,1])\n",
    "\n",
    "# Velocity perturbation (0.01 = +/- 1% uniform distribution changes to velocity)\n",
    "p = 0.03\n",
    "\n",
    "# Water bottom location (in time samples)\n",
    "wb = 200\n",
    "\n",
    "# Offsets (137 to 2587 meters in increment of 50 m)\n",
    "offs = 137f0:50f0:6487f0\n",
    "\n",
    "# Output size (number of time samples, number of offset traces)\n",
    "outsize = [1452, 130];\n",
    "\n",
    "# amount of ruggle/waviness to simulate anisotropy\n",
    "ruggle = 1;\n",
    "\n",
    "# gaussian smoothing\n",
    "smoothing = 25;"
   ]
  },
  {
   "cell_type": "markdown",
   "id": "f3693d6f",
   "metadata": {},
   "source": [
    "# Full Gather Generation"
   ]
  },
  {
   "cell_type": "code",
   "execution_count": 8,
   "id": "bad510bc",
   "metadata": {},
   "outputs": [
    {
     "name": "stdout",
     "output_type": "stream",
     "text": [
      "count = 1, ID = 1\n",
      "count = 2, ID = 2\n",
      "count = 3, ID = 3\n"
     ]
    }
   ],
   "source": [
    "# GENERATION\n",
    "# Number of input/target gather batches to generate\n",
    "bs = 3\n",
    "\n",
    "# starting index number\n",
    "starting = 1\n",
    "\n",
    "genDataPairs_fullGathers(bs, starting-1, nt, offs, dt, wb, p, trcs, outsize, 70.0, ruggle, smoothing; \n",
    "    rpp=0.25, rgp=0.25, rpm=0.25, rgm=0.6, minmov=100.0, max_apexshft=3, ringnoise = [0,0,0])"
   ]
  },
  {
   "cell_type": "code",
   "execution_count": null,
   "id": "aa1323f8",
   "metadata": {},
   "outputs": [],
   "source": []
  }
 ],
 "metadata": {
  "kernelspec": {
   "display_name": "Julia 1.6.7",
   "language": "julia",
   "name": "julia-1.6"
  },
  "language_info": {
   "file_extension": ".jl",
   "mimetype": "application/julia",
   "name": "julia",
   "version": "1.6.7"
  }
 },
 "nbformat": 4,
 "nbformat_minor": 5
}
